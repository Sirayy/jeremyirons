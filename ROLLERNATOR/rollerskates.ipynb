{
 "cells": [
  {
   "attachments": {},
   "cell_type": "markdown",
   "metadata": {},
   "source": [
    "# Rollernator\n",
    "\n",
    "Hi Marié :3 You are a data opsik working in a small rollerskates boutique. You've just received a small json file containing products which will be shipped to you next month.\n",
    "Your boss has asked you to prepare some basic, routine calculations on the file.\n",
    "Each cell of this notebook is a different task for you to do.\n",
    "\n",
    "When writing functions, always invoke them below their definition with some exemplary arguments to show the results."
   ]
  },
  {
   "attachments": {},
   "cell_type": "markdown",
   "metadata": {},
   "source": [
    "### 1. Reading the file\n",
    "Read the json file as a dictionary. Use the \"json\" standard library to do so. To confirm that the read went successful, print how many elements are in the dict. Were you surprised by the result? Please explain the number you got."
   ]
  },
  {
   "cell_type": "code",
   "execution_count": 2,
   "metadata": {},
   "outputs": [
    {
     "name": "stdout",
     "output_type": "stream",
     "text": [
      "1\n",
      "24\n",
      "[{'brand': 'RollerCo', 'model': 'SpeedX', 'colors': ['red', 'blue', 'black'], 'sizes': [36, 38, 40, 42], 'price': 79.99}, {'brand': 'SkatePro', 'model': 'StreetBlade', 'colors': ['black', 'white', 'purple'], 'sizes': [37, 39, 41, 43], 'price': 89.99}, {'brand': 'RollerMax', 'model': 'ProGlide', 'colors': ['green', 'yellow'], 'sizes': [36, 37, 38, 39, 40, 41, 42, 43], 'price': 99.99}, {'brand': 'RollerStar', 'model': 'SpeedRacer', 'colors': ['silver', 'purple'], 'sizes': [37, 38, 39, 40, 41], 'price': 84.99}, {'brand': 'SkateLine', 'model': 'Airflow', 'colors': ['black', 'pink', 'orange'], 'sizes': [38, 40, 42], 'price': 79.99}, {'brand': 'RollerPro', 'model': 'MaxGrip', 'colors': ['blue', 'white'], 'sizes': [39, 41, 43], 'price': 89.99}, {'brand': 'SkateZone', 'model': 'BladeLite', 'colors': ['black', 'red', 'blue'], 'sizes': [36, 37, 38, 39, 40, 41, 42, 43], 'price': 99.99}, {'brand': 'RollerTech', 'model': 'SpeedMaster', 'colors': ['yellow', 'green'], 'sizes': [38, 40, 42], 'price': 84.99}, {'brand': 'SkateStar', 'model': 'XtremeGlide', 'colors': ['pink', 'purple', 'black'], 'sizes': [37, 39, 41, 43], 'price': 79.99}, {'brand': 'RollerGlide', 'model': 'PowerFlex', 'colors': ['red', 'black'], 'sizes': [36, 37, 38, 39, 40, 41, 42, 43], 'price': 89.99}, {'brand': 'SkateMax', 'model': 'SuperFlow', 'colors': ['blue', 'white'], 'sizes': [38, 40, 42], 'price': 99.99}, {'brand': 'RollerBlade', 'model': 'TurboFlash', 'colors': ['black', 'green'], 'sizes': [37, 39, 41, 43], 'price': 84.99}, {'brand': 'SkateTech', 'model': 'AirRide', 'colors': ['red', 'blue', 'yellow'], 'sizes': [36, 38, 40, 42], 'price': 79.99}, {'brand': 'RollerPro', 'model': 'GripMax', 'colors': ['black', 'white'], 'sizes': [37, 39, 41, 43], 'price': 89.99}, {'brand': 'SkateZone', 'model': 'EliteBlade', 'colors': ['black', 'purple', 'silver'], 'sizes': [36, 37, 38, 39, 40, 41, 42, 43], 'price': 99.99}, {'brand': 'RollerTech', 'model': 'TurboMaster', 'colors': ['green', 'blue'], 'sizes': [38, 40, 42], 'price': 84.99}, {'brand': 'SkateStar', 'model': 'SpeedGlide', 'colors': ['pink', 'purple', 'black'], 'sizes': [37, 39, 41, 43], 'price': 79.99}, {'brand': 'RollerGlide', 'model': 'FlexPower', 'colors': ['red', 'black'], 'sizes': [36, 37, 38, 39, 40, 41, 42, 43], 'price': 89.99}, {'brand': 'SkateMax', 'model': 'UltraFlow', 'colors': ['blue', 'white'], 'sizes': [38, 40, 42], 'price': 99.99}, {'brand': 'RollerBlade', 'model': 'ProGlide', 'colors': ['black', 'green'], 'sizes': [37, 39, 41, 43], 'price': 84.99}, {'brand': 'SkateTech', 'model': 'XtremeSpeed', 'colors': ['purple', 'silver', 'black'], 'sizes': [36, 38, 40, 42], 'price': 79.99}, {'brand': 'RollerCo', 'model': 'TurboX', 'colors': ['black', 'white'], 'sizes': [37, 39, 41, 43], 'price': 89.99}, {'brand': 'SkatePro', 'model': 'RacerBlade', 'colors': ['red', 'blue', 'silver'], 'sizes': [36, 37, 38, 39, 40, 41, 42, 43], 'price': 99.99}, {'brand': 'RollerMax', 'model': 'SuperGrip', 'colors': ['green', 'yellow'], 'sizes': [38, 40, 42], 'price': 84.99}]\n"
     ]
    }
   ],
   "source": [
    "# 1. Your code here:\n",
    "import pandas as pd\n",
    "import numpy as np\n",
    "import traceback\n",
    "import logging\n",
    "import json\n",
    "import random\n",
    "\n",
    "with open('rollerskates.json', 'r') as file:\n",
    "    data = json.load(file)\n",
    "    rawfile = data[\"rollerskates\"]\n",
    "\n",
    "print(len(data)) #this shows me the count for rollerskates which is an array of JSON objects and there is only one!\n",
    "print(len(data[\"rollerskates\"])) #this is the number of objects within the object rollerskates\n",
    "print(rawfile)"
   ]
  },
  {
   "attachments": {},
   "cell_type": "markdown",
   "metadata": {},
   "source": [
    "### 2. Q&A\n",
    "Please explain the structure of the file. What are the keys, values, how is it nested?\n",
    "What is the difference between \"load\" and \"loads\" functions from the \"json\" library?"
   ]
  },
  {
   "attachments": {},
   "cell_type": "markdown",
   "metadata": {},
   "source": [
    "##### # 2. Your answer in this cell:\n",
    "The **values** in a Python dictionary can be accessed using the **keys**.\n",
    "\n",
    "load() - creates a Python object out of an JSON object\n",
    "\n",
    "loads() - creates a Python object out of a string"
   ]
  },
  {
   "attachments": {},
   "cell_type": "markdown",
   "metadata": {},
   "source": [
    "### 3. Write a function that prints the brand and model of each rollerskate in the JSON data."
   ]
  },
  {
   "cell_type": "code",
   "execution_count": 67,
   "metadata": {},
   "outputs": [],
   "source": [
    "def load_brands_models(listo:list):   \n",
    "    brands = []\n",
    "    models = []\n",
    "    colors = []\n",
    "\n",
    "    for dict in listo:\n",
    "        brand=dict[\"brand\"]\n",
    "        model=dict[\"model\"]\n",
    "        color_list=dict[\"colors\"]\n",
    "        if brand not in brands:\n",
    "            brands.append(brand)\n",
    "        if model not in models:\n",
    "            models.append(model)\n",
    "        for i in  color_list:\n",
    "            if i not in colors:\n",
    "                colors.append(i)\n",
    "\n",
    "    return brands, models, colors\n",
    "\n",
    "brands, models, colors = load_brands_models(rawfile)"
   ]
  },
  {
   "cell_type": "code",
   "execution_count": 30,
   "metadata": {},
   "outputs": [
    {
     "name": "stdout",
     "output_type": "stream",
     "text": [
      "brand: RollerCo\n",
      "model: SpeedX\n",
      "\n",
      "brand: SkatePro\n",
      "model: StreetBlade\n",
      "\n",
      "brand: RollerMax\n",
      "model: ProGlide\n",
      "\n",
      "brand: RollerStar\n",
      "model: SpeedRacer\n",
      "\n",
      "brand: SkateLine\n",
      "model: Airflow\n",
      "\n",
      "brand: RollerPro\n",
      "model: MaxGrip\n",
      "\n",
      "brand: SkateZone\n",
      "model: BladeLite\n",
      "\n",
      "brand: RollerTech\n",
      "model: SpeedMaster\n",
      "\n",
      "brand: SkateStar\n",
      "model: XtremeGlide\n",
      "\n",
      "brand: RollerGlide\n",
      "model: PowerFlex\n",
      "\n",
      "brand: SkateMax\n",
      "model: SuperFlow\n",
      "\n",
      "brand: RollerBlade\n",
      "model: TurboFlash\n",
      "\n",
      "brand: SkateTech\n",
      "model: AirRide\n",
      "\n",
      "brand: RollerPro\n",
      "model: GripMax\n",
      "\n",
      "brand: SkateZone\n",
      "model: EliteBlade\n",
      "\n",
      "brand: RollerTech\n",
      "model: TurboMaster\n",
      "\n",
      "brand: SkateStar\n",
      "model: SpeedGlide\n",
      "\n",
      "brand: RollerGlide\n",
      "model: FlexPower\n",
      "\n",
      "brand: SkateMax\n",
      "model: UltraFlow\n",
      "\n",
      "brand: RollerBlade\n",
      "model: ProGlide\n",
      "\n",
      "brand: SkateTech\n",
      "model: XtremeSpeed\n",
      "\n",
      "brand: RollerCo\n",
      "model: TurboX\n",
      "\n",
      "brand: SkatePro\n",
      "model: RacerBlade\n",
      "\n",
      "brand: RollerMax\n",
      "model: SuperGrip\n",
      "\n"
     ]
    },
    {
     "data": {
      "text/plain": [
       "(['RollerCo',\n",
       "  'SkatePro',\n",
       "  'RollerMax',\n",
       "  'RollerStar',\n",
       "  'SkateLine',\n",
       "  'RollerPro',\n",
       "  'SkateZone',\n",
       "  'RollerTech',\n",
       "  'SkateStar',\n",
       "  'RollerGlide',\n",
       "  'SkateMax',\n",
       "  'RollerBlade',\n",
       "  'SkateTech'],\n",
       " ['SpeedX',\n",
       "  'StreetBlade',\n",
       "  'ProGlide',\n",
       "  'SpeedRacer',\n",
       "  'Airflow',\n",
       "  'MaxGrip',\n",
       "  'BladeLite',\n",
       "  'SpeedMaster',\n",
       "  'XtremeGlide',\n",
       "  'PowerFlex',\n",
       "  'SuperFlow',\n",
       "  'TurboFlash',\n",
       "  'AirRide',\n",
       "  'GripMax',\n",
       "  'EliteBlade',\n",
       "  'TurboMaster',\n",
       "  'SpeedGlide',\n",
       "  'FlexPower',\n",
       "  'UltraFlow',\n",
       "  'XtremeSpeed',\n",
       "  'TurboX',\n",
       "  'RacerBlade',\n",
       "  'SuperGrip'])"
      ]
     },
     "execution_count": 30,
     "metadata": {},
     "output_type": "execute_result"
    }
   ],
   "source": [
    "# 3. Your code here:\n",
    "def brand_model(listo:list):\n",
    "\n",
    "    for dict in listo:\n",
    "        brand=dict[\"brand\"]\n",
    "        model=dict[\"model\"]\n",
    "        print(\"brand: \" + str(brand) + \"\\nmodel: \" + str(model) + \"\\n\")\n",
    "\n",
    "brand_model(rawfile)"
   ]
  },
  {
   "attachments": {},
   "cell_type": "markdown",
   "metadata": {},
   "source": [
    "### 4. Write a function that checks if the price of a rollerskate is above a certain threshold (e.g., $90). If it is, print the brand and model along with a message stating that it is expensive. Otherwise, print the brand and model along with a message stating that it is affordable."
   ]
  },
  {
   "cell_type": "code",
   "execution_count": 68,
   "metadata": {},
   "outputs": [
    {
     "name": "stdout",
     "output_type": "stream",
     "text": [
      "Model halo is not found on the list. Please enter correct details.\n"
     ]
    }
   ],
   "source": [
    "# 4. Your code here:\n",
    "def pricey(listo:list):\n",
    "    \n",
    "    mybrand = input(\"Enter brand out of the following: \" + ', '.join(brands))\n",
    "    brand_models = []\n",
    "    for dict in listo:\n",
    "        brand=dict[\"brand\"]\n",
    "        model=dict[\"model\"]\n",
    "        if brand == mybrand:\n",
    "                brand_models.append(model)\n",
    "\n",
    "    mymodel = input(\"Enter model out of the following: \" + ', '.join(brand_models))\n",
    "\n",
    "    if mybrand not in brands:\n",
    "        print (\"Brand \" + mybrand + \" is not found on the list. Please enter correct details.\") \n",
    "        return\n",
    "    elif mymodel not in brand_models:\n",
    "        print (\"Model \" + mymodel + \" is not found on the list. Please enter correct details.\") \n",
    "        return\n",
    "    else:\n",
    "        threshold = int(input(\"Enter treshhold:\"))\n",
    "        mydict= {}\n",
    "        for dict in listo:\n",
    "            brand=dict[\"brand\"]\n",
    "            model=dict[\"model\"]\n",
    "            if brand == mybrand and model == mymodel:\n",
    "                mydict.update(dict)\n",
    "            \n",
    "        price = mydict['price']\n",
    "        brand = mydict['brand']\n",
    "        model = mydict[\"model\"]\n",
    "        if price > threshold:\n",
    "                print(\"brand: \" + str(brand) + \"\\nmodel: \" + str(model) + \"\\nis quite expensive :(\\n\")\n",
    "        else: \n",
    "                print(\"brand: \" + str(brand) + \"\\nmodel: \" + str(model) + \"\\nis quite cheap :)\\n\")\n",
    "\n",
    "\n",
    "pricey(rawfile)"
   ]
  },
  {
   "attachments": {},
   "cell_type": "markdown",
   "metadata": {},
   "source": [
    "### 5. Write a program that creates a new list containing all the available sizes of rollerskates from the JSON data. The list should have unique values in the end."
   ]
  },
  {
   "cell_type": "code",
   "execution_count": 5,
   "metadata": {},
   "outputs": [
    {
     "name": "stdout",
     "output_type": "stream",
     "text": [
      "[36, 38, 40, 42, 37, 39, 41, 43]\n"
     ]
    }
   ],
   "source": [
    "# 5. Your code here:\n",
    "def all_sizes(listo:list):\n",
    "    sizes_list=[]\n",
    "    for dict in listo:\n",
    "        sizes=dict['sizes']\n",
    "        for i in sizes:\n",
    "            if i not in sizes_list:\n",
    "                sizes_list.append(i)\n",
    "    print(sizes_list)\n",
    "\n",
    "all_sizes(rawfile)"
   ]
  },
  {
   "attachments": {},
   "cell_type": "markdown",
   "metadata": {},
   "source": [
    "### 6. Write a function that filters the rollerskate data based on a specific color. Print the brand and model of all rollerskates that are available in that color."
   ]
  },
  {
   "cell_type": "code",
   "execution_count": 72,
   "metadata": {},
   "outputs": [
    {
     "name": "stdout",
     "output_type": "stream",
     "text": [
      "Avaliable rollerskates in white:\n",
      "\n",
      "brand: SkatePro\n",
      "model: StreetBlade\n",
      "\n",
      "brand: RollerPro\n",
      "model: MaxGrip\n",
      "\n",
      "brand: SkateMax\n",
      "model: SuperFlow\n",
      "\n",
      "brand: RollerPro\n",
      "model: GripMax\n",
      "\n",
      "brand: SkateMax\n",
      "model: UltraFlow\n",
      "\n",
      "brand: RollerCo\n",
      "model: TurboX\n",
      "\n"
     ]
    }
   ],
   "source": [
    "# 6. Your code here:\n",
    "def show_me_colors(listo:list):\n",
    "    mycolor = input(\"Enter color:\")\n",
    "    if mycolor not in colors:\n",
    "        print (mycolor + \" is not found in the color list. Please enter correct details.\") \n",
    "        return\n",
    "    else:\n",
    "        print(\"Avaliable rollerskates in \" + mycolor + \":\" + \"\\n\")\n",
    "        for dict in listo:\n",
    "            colors_list=dict['colors']\n",
    "            brand=dict[\"brand\"]\n",
    "            model=dict[\"model\"]\n",
    "            if mycolor in colors_list:\n",
    "                print(\"brand: \" + str(brand) + \"\\nmodel: \" + str(model)+ \"\\n\")\n",
    "\n",
    "show_me_colors(rawfile)\n"
   ]
  },
  {
   "attachments": {},
   "cell_type": "markdown",
   "metadata": {},
   "source": [
    "### 7. Write a program that prints all the combinations of colors and sizes available for each rollerskate.\n",
    "\n",
    "Example:\n",
    "\n",
    "Rollerskate: RollerCo SpeedX\n",
    "Available combinations:\n",
    "- Color: red, Size: 36\n",
    "- Color: red, Size: 38\n",
    "- Color: red, Size: 40"
   ]
  },
  {
   "cell_type": "code",
   "execution_count": 73,
   "metadata": {},
   "outputs": [
    {
     "name": "stdout",
     "output_type": "stream",
     "text": [
      "Item: SkateStar XtremeGlide.\n",
      "Available combinations: \n",
      "Color: pink, size: 37\n",
      "Color: pink, size: 39\n",
      "Color: pink, size: 41\n",
      "Color: pink, size: 43\n",
      "Color: purple, size: 37\n",
      "Color: purple, size: 39\n",
      "Color: purple, size: 41\n",
      "Color: purple, size: 43\n",
      "Color: black, size: 37\n",
      "Color: black, size: 39\n",
      "Color: black, size: 41\n",
      "Color: black, size: 43\n"
     ]
    }
   ],
   "source": [
    "def combinations(listo:list):\n",
    "    mybrand = input(\"Enter brand out of the following: \" + ', '.join(brands))\n",
    "    brand_models = []\n",
    "    for dict in listo:\n",
    "        brand=dict[\"brand\"]\n",
    "        model=dict[\"model\"]\n",
    "        if brand == mybrand:\n",
    "                brand_models.append(model)\n",
    "\n",
    "    mymodel = input(\"Enter model out of the following: \" + ', '.join(brand_models))\n",
    "    #check przed pętlą\n",
    "    if mybrand not in brands:\n",
    "        print (\"Brand \" + mybrand + \" is not found on the list. Please enter correct details.\") \n",
    "        return\n",
    "    elif mymodel not in brand_models:\n",
    "        print (\"Model \" + mymodel + \" is not found on the list. Please enter correct details.\") \n",
    "        return\n",
    "\n",
    "    else:\n",
    "        mydict= {}\n",
    "        for dict in listo:\n",
    "            brand=dict[\"brand\"]\n",
    "            model=dict[\"model\"]\n",
    "            mycolors=dict[\"colors\"]\n",
    "            sizes=dict[\"sizes\"]\n",
    "            if brand == mybrand and model == mymodel:\n",
    "                mydict.update(dict)\n",
    "                \n",
    "        print(\"Item: \" + mydict[\"brand\"] + \" \" + mydict[\"model\"] + \".\\nAvailable combinations: \")\n",
    "        for item in mydict[\"colors\"]:\n",
    "            for i in mydict[\"sizes\"]:\n",
    "                print(\"Color: \" + str(item) + \", size: \" + str(i))\n",
    "        \n",
    "combinations(rawfile)\n"
   ]
  },
  {
   "attachments": {},
   "cell_type": "markdown",
   "metadata": {},
   "source": [
    "### 8. Write a program that filters the rollerskate data based on a specific brand and prints all the rollerskates of that brand along with their models and prices."
   ]
  },
  {
   "cell_type": "code",
   "execution_count": 75,
   "metadata": {},
   "outputs": [
    {
     "name": "stdout",
     "output_type": "stream",
     "text": [
      "Brand: RollerStar\n",
      "Model: SpeedRacer\n",
      "Price: 84.99\n",
      "----------\n"
     ]
    }
   ],
   "source": [
    "# 8. Your code here:\n",
    "def showbrand(listo:list):\n",
    "    mybrand = input(\"Enter brand out of the following: \" + ', '.join(brands))\n",
    "    if mybrand not in brands:\n",
    "        print (\"Brand \" + mybrand + \" is not found on the list. Please enter correct details.\") \n",
    "        return\n",
    "    else: \n",
    "        for dict in listo: \n",
    "            brand=dict[\"brand\"]\n",
    "            model=dict[\"model\"]\n",
    "            price=dict[\"price\"]\n",
    "            if brand==mybrand:\n",
    "                print(\"Brand: \" + brand + \"\\nModel: \" + model +\"\\nPrice: \" + str(price) + \"\\n----------\")\n",
    "\n",
    "\n",
    "showbrand(rawfile)\n"
   ]
  },
  {
   "attachments": {},
   "cell_type": "markdown",
   "metadata": {},
   "source": [
    "### 9. Write a function which loops over the rollerskates data and in the end it returns the min, max and average prices. Do it \"oldschool\" by looping over elements, without using the available \"min\", \"max\" or \"avg\" functions."
   ]
  },
  {
   "cell_type": "code",
   "execution_count": 76,
   "metadata": {},
   "outputs": [
    {
     "name": "stdout",
     "output_type": "stream",
     "text": [
      "Min: 79.99, max: 99.99, avg: 88.74\n"
     ]
    }
   ],
   "source": [
    "# 9. Your code here:\n",
    "def summary(listo:list):\n",
    "    prices = []\n",
    "    for dict in listo: \n",
    "        price=dict[\"price\"]\n",
    "        prices.append(price)\n",
    "\n",
    "    minimum = prices[0]\n",
    "    maximum = prices[0]\n",
    "    summy = 0\n",
    "\n",
    "    for x in prices:\n",
    "        if x < minimum:\n",
    "            minimum = x\n",
    "        elif x > maximum:\n",
    "            maximum = x\n",
    "        summy += x\n",
    "\n",
    "    average = summy / len(prices)\n",
    "    print(\"Min: \" + str(minimum) + \", max: \" + str(maximum) + \", avg: \" + str(average))\n",
    "\n",
    "\n",
    "summary(rawfile)"
   ]
  },
  {
   "attachments": {},
   "cell_type": "markdown",
   "metadata": {},
   "source": [
    "### 10. Write a program that prompts the user to enter their name and a minimum and maximum price range of rollerskates he wants. The program should then filter the rollerskate data to get all the rollerskates within that price range. Then select a random model from the filtered rollerskates and print out a short personalized recommendation of that model. In the recommendation, refer to the customer by his name, inform him about available sizes and tell him the price (you must add that it's way cheaper than in other stores!). Be kind and convincing etc. : )\n",
    "\n",
    "Additional requirements/hints:\n",
    "- To get the prompts, use the \"input\" function\n",
    "- To select a random model, use \"random\" standard library\n",
    "- To print out a parametrized recommendation, use the \"f-string\" feature."
   ]
  },
  {
   "cell_type": "code",
   "execution_count": 82,
   "metadata": {},
   "outputs": [
    {
     "name": "stdout",
     "output_type": "stream",
     "text": [
      "Sorry, I could not find a model for you :(\n"
     ]
    }
   ],
   "source": [
    "# 10. Your code here:\n",
    "import random\n",
    "\n",
    "def reccomendations(listo:list):\n",
    "    name = input(\"Enter your name: \")\n",
    "    min_price = int(input(\"Enter minimum price: \"))\n",
    "    max_price = int(input(\"Enter maximum price: \"))\n",
    "\n",
    "    recommends = []\n",
    "\n",
    "    for dict in listo:\n",
    "        price=dict[\"price\"]\n",
    "        if min_price <= price <= max_price:\n",
    "            recommends.append(dict)\n",
    "\n",
    "    if recommends: \n",
    "            random_skate= random.choice(recommends)\n",
    "            random_skate_colors = ', '.join(random_skate[\"colors\"])\n",
    "            random_skate_sizes = ', '.join(map(str, random_skate[\"sizes\"]))\n",
    "            print(f'Hi {name}, it seems you are looking for rollerskates in the price range betweeen {str(min_price)} and {str(max_price)} dollars. Here is a nicey not-pricey item just for you!')\n",
    "            print(f\"The brand is {random_skate['brand']}, model {random_skate['model']}.\\nIt is available in the following colours: {random_skate_colors}.\\nWhat about the sizes? Well, I see the model is available in sizes {random_skate_sizes}. Hope it fits you!\\nAll of this for the price of {random_skate['price']}, which is cheaper than in other stores!\\nQuite neat, right? Why wait? Let's go to the mall!\")\n",
    "     \n",
    "    else: \n",
    "            print(\"Sorry, I could not find a model for you :(\")   \n",
    "            return\n",
    "            \n",
    "            #lepiej wpisac zamiast exit return\n",
    "\n",
    "reccomendations(rawfile)\n"
   ]
  }
 ],
 "metadata": {
  "kernelspec": {
   "display_name": "Python 3",
   "language": "python",
   "name": "python3"
  },
  "language_info": {
   "codemirror_mode": {
    "name": "ipython",
    "version": 3
   },
   "file_extension": ".py",
   "mimetype": "text/x-python",
   "name": "python",
   "nbconvert_exporter": "python",
   "pygments_lexer": "ipython3",
   "version": "3.10.7"
  },
  "orig_nbformat": 4
 },
 "nbformat": 4,
 "nbformat_minor": 2
}
